{
 "cells": [
  {
   "cell_type": "code",
   "execution_count": 1,
   "metadata": {},
   "outputs": [],
   "source": [
    "# imports \n",
    "import numpy as np\n",
    "from numpy import *\n",
    "import matplotlib.pyplot as plt\n",
    "from matplotlib.pyplot import *\n",
    "import matplotlib.image as mpimg\n",
    "\n",
    "%matplotlib inline"
   ]
  },
  {
   "cell_type": "code",
   "execution_count": 3,
   "metadata": {},
   "outputs": [],
   "source": [
    "\n",
    "\n",
    "basis = (1/sqrt(2) * array([1, 1]), 1/sqrt(2) * array([1, -1]))\n",
    "# for i in [0,1]:\n",
    "#     for j in [0,1]:\n",
    "        # print(\"{}, {} :\".format(i,j))\n",
    "        # print(outer(basis[i], basis[j]))\n",
    "        # print()\n",
    "\n"
   ]
  },
  {
   "cell_type": "code",
   "execution_count": 9,
   "metadata": {},
   "outputs": [
    {
     "data": {
      "image/png": "[encoded data removed]",
      "text/plain": [
       "<Figure size 432x288 with 1 Axes>"
      ]
     },
     "metadata": {
      "needs_background": "light"
     },
     "output_type": "display_data"
    }
   ],
   "source": [
    "\n",
    "\n",
    "# The 8 x 8 DCT matrix thus looks like this.\n",
    "N = 32\n",
    "dct = np.zeros((N, N))\n",
    "for x in range(N):\n",
    "    dct[0,x] = sqrt(2.0/N) / sqrt(2.0)\n",
    "for u in range(1,N):\n",
    "    for x in range(N):\n",
    "        dct[u,x] = sqrt(2.0/N) * cos((pi/N) * u * (x + 0.5) )\n",
    "        \n",
    "np.set_printoptions(precision=3)\n",
    "# dct\n",
    "imshow(dct, cmap='gray')\n",
    "show()\n",
    "\n"
   ]
  },
  {
   "cell_type": "code",
   "execution_count": 10,
   "metadata": {},
   "outputs": [
    {
     "data": {
      "image/png": "[encoded data removed]",
      "text/plain": [
       "<Figure size 432x288 with 1 Axes>"
      ]
     },
     "metadata": {
      "needs_background": "light"
     },
     "output_type": "display_data"
    }
   ],
   "source": [
    "\n",
    "\n",
    "dct_transpose = dct.transpose()\n",
    "\n",
    "imshow(dct_transpose, cmap='gray')\n",
    "show()\n",
    "\n"
   ]
  },
  {
   "cell_type": "code",
   "execution_count": 12,
   "metadata": {},
   "outputs": [
    {
     "data": {
      "image/png": "[encoded data removed]",
      "text/plain": [
       "<Figure size 432x288 with 1 Axes>"
      ]
     },
     "metadata": {
      "needs_background": "light"
     },
     "output_type": "display_data"
    }
   ],
   "source": [
    "maybe_identity = dot(dct, dct_transpose)\n",
    "roundoff = vectorize(lambda m: round(m, 6))\n",
    "\n",
    "imshow(roundoff(maybe_identity), cmap='gray')\n",
    "show()\n"
   ]
  },
  {
   "cell_type": "code",
   "execution_count": 6,
   "metadata": {},
   "outputs": [
    {
     "data": {
      "text/plain": [
       "(0.9999999999999999,\n",
       " 1.0,\n",
       " 5.551115123125783e-17,\n",
       " 1.8735013540549517e-16,\n",
       " -2.498001805406602e-16)"
      ]
     },
     "execution_count": 6,
     "metadata": {},
     "output_type": "execute_result"
    }
   ],
   "source": [
    "\n",
    "\n",
    "def rowdot(i,j):\n",
    "    return dot(dct[i, :], dct[j, :])\n",
    "rowdot(0,0), rowdot(3,3), rowdot(0,3), rowdot(1, 7), rowdot(1,5)\n",
    "\n"
   ]
  },
  {
   "cell_type": "code",
   "execution_count": 13,
   "metadata": {},
   "outputs": [
    {
     "ename": "ValueError",
     "evalue": "shapes (16,16) and (256,256) not aligned: 16 (dim 1) != 256 (dim 0)",
     "output_type": "error",
     "traceback": [
      "\u001b[0;31m---------------------------------------------------------------------------\u001b[0m",
      "\u001b[0;31mValueError\u001b[0m                                Traceback (most recent call last)",
      "\u001b[1;32m/Users/marynavek/Projects/ImageProcessing/HW_4/test.ipynb Cell 7\u001b[0m in \u001b[0;36m<cell line: 15>\u001b[0;34m()\u001b[0m\n\u001b[1;32m     <a href='vscode-notebook-cell:/Users/marynavek/Projects/ImageProcessing/HW_4/test.ipynb#ch0000007?line=11'>12</a>\u001b[0m tiny \u001b[39m=\u001b[39m cv2\u001b[39m.\u001b[39mimread(image_path, \u001b[39m0\u001b[39m)\n\u001b[1;32m     <a href='vscode-notebook-cell:/Users/marynavek/Projects/ImageProcessing/HW_4/test.ipynb#ch0000007?line=13'>14</a>\u001b[0m \u001b[39m# test : do DCT, then undo DCT; should get back the same image.\u001b[39;00m\n\u001b[0;32m---> <a href='vscode-notebook-cell:/Users/marynavek/Projects/ImageProcessing/HW_4/test.ipynb#ch0000007?line=14'>15</a>\u001b[0m tiny_do_undo \u001b[39m=\u001b[39m undoDCT(doDCT(tiny))\n\u001b[1;32m     <a href='vscode-notebook-cell:/Users/marynavek/Projects/ImageProcessing/HW_4/test.ipynb#ch0000007?line=16'>17</a>\u001b[0m imshow(tiny_do_undo)\n",
      "\u001b[1;32m/Users/marynavek/Projects/ImageProcessing/HW_4/test.ipynb Cell 7\u001b[0m in \u001b[0;36mdoDCT\u001b[0;34m(grid)\u001b[0m\n\u001b[1;32m      <a href='vscode-notebook-cell:/Users/marynavek/Projects/ImageProcessing/HW_4/test.ipynb#ch0000007?line=1'>2</a>\u001b[0m \u001b[39mdef\u001b[39;00m \u001b[39mdoDCT\u001b[39m(grid):\n\u001b[0;32m----> <a href='vscode-notebook-cell:/Users/marynavek/Projects/ImageProcessing/HW_4/test.ipynb#ch0000007?line=2'>3</a>\u001b[0m     \u001b[39mreturn\u001b[39;00m dot(dot(dct, grid), dct_transpose)\n",
      "File \u001b[0;32m<__array_function__ internals>:180\u001b[0m, in \u001b[0;36mdot\u001b[0;34m(*args, **kwargs)\u001b[0m\n",
      "\u001b[0;31mValueError\u001b[0m: shapes (16,16) and (256,256) not aligned: 16 (dim 1) != 256 (dim 0)"
     ]
    }
   ],
   "source": [
    "import cv2\n",
    "def doDCT(grid):\n",
    "    return dot(dot(dct, grid), dct_transpose)\n",
    "\n",
    "def undoDCT(grid):\n",
    "    return dot(dot(dct_transpose, grid), dct)\n",
    "\n",
    "image_path = \"/Users/marynavek/Projects/ImageProcessing/synthetic_im_3.jpg\"\n",
    "    \n",
    "    # image = Image.open(image_path).convert(\"L\")\n",
    "    # img = Image.open(image_path).convert(\"L\")\n",
    "tiny = cv2.imread(image_path, 0)\n",
    "tiny = cv2.resize(tiny, (32,32))\n",
    "\n",
    "# test : do DCT, then undo DCT; should get back the same image.\n",
    "tiny_do_undo = undoDCT(doDCT(tiny))\n",
    "\n",
    "imshow(tiny_do_undo)"
   ]
  }
 ],
 "metadata": {
  "kernelspec": {
   "display_name": "Python 3.9.13 ('base')",
   "language": "python",
   "name": "python3"
  },
  "language_info": {
   "codemirror_mode": {
    "name": "ipython",
    "version": 3
   },
   "file_extension": ".py",
   "mimetype": "text/x-python",
   "name": "python",
   "nbconvert_exporter": "python",
   "pygments_lexer": "ipython3",
   "version": "3.9.13"
  },
  "orig_nbformat": 4,
  "vscode": {
   "interpreter": {
    "hash": "c11202d2846b22eec7deaf37ea813ba92a5f75b5344a4d16688175855af7948e"
   }
  }
 },
 "nbformat": 4,
 "nbformat_minor": 2
}
